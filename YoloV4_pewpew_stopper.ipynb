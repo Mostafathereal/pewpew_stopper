{
  "nbformat": 4,
  "nbformat_minor": 0,
  "metadata": {
    "colab": {
      "name": "YoloV4-pewpew_stopper.ipynb",
      "provenance": [],
      "collapsed_sections": []
    },
    "kernelspec": {
      "name": "python3",
      "display_name": "Python 3"
    }
  },
  "cells": [
    {
      "cell_type": "code",
      "metadata": {
        "id": "KuRPucSv2s-Z",
        "colab_type": "code",
        "colab": {}
      },
      "source": [
        ""
      ],
      "execution_count": null,
      "outputs": []
    },
    {
      "cell_type": "code",
      "metadata": {
        "id": "i3C_ev635z09",
        "colab_type": "code",
        "colab": {}
      },
      "source": [
        "## clone YoloV4 repo from github.com/Tianxiaomo\n",
        "!git clone https://github.com/Tianxiaomo/pytorch-YOLOv4.git"
      ],
      "execution_count": null,
      "outputs": []
    },
    {
      "cell_type": "code",
      "metadata": {
        "id": "ZbmE8QymEnZl",
        "colab_type": "code",
        "colab": {}
      },
      "source": [
        "## install all the requirements from requirements file of the repo\n",
        "## could also just do \n",
        "##    %cd /content/pytorch-YOLOv4\n",
        "##    !pip install -r requirements.txt\n",
        "\n",
        "!pip3 install numpy==1.18.2\n",
        "!pip3 install torch==1.4.0\n",
        "!pip3 install matplotlib==2.2.3 \n",
        "!pip3 install tqdm==4.43.0\n",
        "!pip3 install Pillow==7.1.2\n",
        "!pip3 install tensorboardX\n",
        "!pip3 install opencv_python\n",
        "!pip3 install pycocotools\n",
        "!pip3 install easydict==1.9"
      ],
      "execution_count": null,
      "outputs": []
    },
    {
      "cell_type": "code",
      "metadata": {
        "id": "FXFIjj_kKyaB",
        "colab_type": "code",
        "colab": {}
      },
      "source": [
        "## Download your customly preproccessed and augmented dataset from RoboFlow (linke provided to each individual account privately BUT ITS FREE)\n",
        "!curl -L \"<roboflow-link>\" > gun_data.zip; \n",
        "!unzip gun_data.zip\n",
        "!rm gun_data.zip"
      ],
      "execution_count": null,
      "outputs": []
    },
    {
      "cell_type": "code",
      "metadata": {
        "id": "m4IT32ZdLgoF",
        "colab_type": "code",
        "colab": {}
      },
      "source": [
        "## I'd rather have all 3 sets in one data directory;\n",
        "!mkdir data\n",
        "!mv test data\n",
        "!mv train data\n",
        "!mv valid data"
      ],
      "execution_count": null,
      "outputs": []
    },
    {
      "cell_type": "code",
      "metadata": {
        "id": "vKAcgD1CFMrD",
        "colab_type": "code",
        "colab": {}
      },
      "source": [
        "# download darknet weights for pytorch model (linked in README.md of the yoloV4 Repo)\n",
        "    # thank you to Tianxiaomo for converting it from darknet to pytorch for us!!\n",
        "!gdown https://drive.google.com/uc?id=1fcbR0bWzYfIEdLJPzOsn4R5mlvR6IQyA\n",
        "\n"
      ],
      "execution_count": null,
      "outputs": []
    },
    {
      "cell_type": "code",
      "metadata": {
        "id": "OVz4d78sL3w3",
        "colab_type": "code",
        "colab": {}
      },
      "source": [
        ""
      ],
      "execution_count": null,
      "outputs": []
    }
  ]
}